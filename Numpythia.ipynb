{
 "cells": [
  {
   "cell_type": "code",
   "execution_count": 1,
   "metadata": {},
   "outputs": [
    {
     "name": "stdout",
     "output_type": "stream",
     "text": [
      "Welcome to JupyROOT 6.14/04\n"
     ]
    }
   ],
   "source": [
    "from numpythia import Pythia, STATUS, HAS_END_VERTEX, ABS_PDG_ID\n",
    "from pyjet import cluster\n",
    "\n",
    "%matplotlib inline\n",
    "\n",
    "import matplotlib.pyplot as plt\n",
    "import numpy as np\n",
    "import pandas as pd\n",
    "\n",
    "import ROOT"
   ]
  },
  {
   "cell_type": "code",
   "execution_count": 2,
   "metadata": {},
   "outputs": [],
   "source": [
    "#in selection do not allow it to be a neutrino\n",
    "selection = ((STATUS == 1) & ~HAS_END_VERTEX & (ABS_PDG_ID != 12) & (ABS_PDG_ID != 14) & (ABS_PDG_ID != 16))"
   ]
  },
  {
   "cell_type": "code",
   "execution_count": 3,
   "metadata": {},
   "outputs": [],
   "source": [
    "params = {\n",
    " \"HardQCD:all\":          \"on\",  #hard subprocesses (2->2) are considered\n",
    " \"Beams:eCM\":            100,   #center of mass energy\n",
    " \"Beams:idA\":            11,    #identity of incoming object A in the collision\n",
    " \"Beams:idB\":            2212,  #identity of incoming object B in the collision\n",
    " \"PDF:lepton2gamma\":     \"on\",  #initial state radiation for leptons \n",
    " \"Photon:Q2max\":         1.0,   #upper limit for real photon virtuality (can only handle (quasi-)real photons)\n",
    " \"Photon:Wmin\":          10.0,  #minimum for the invariant mass (total energy and momentum) of a photon-hadron system\n",
    " \"PhaseSpace:pTHatMin\":  2.0,   #minimum pT \n",
    " \"PhotonParton:all\":     \"on\",  #photon-parton interactions (gmg->qqbar,ccbar,ddbar)\n",
    " \"Photon:ProcessType\":   0,     #mixed contributions from resolved and direct photon interactions (resolved=hadronic photon behavior)\n",
    " \"Main:timesAllowErrors\":10000, #allowed number of errors before aborting\n",
    "}"
   ]
  },
  {
   "cell_type": "code",
   "execution_count": 3,
   "metadata": {},
   "outputs": [],
   "source": [
    "#DIS process\n",
    "\n",
    "params = {\n",
    " \"Beams:frameType\":                2,    #set-up frame for beams with unequal energies\n",
    " \"Beams:idA\":                      2212, #identity of incoming object A in the collision (p)\n",
    " \"Beams:idB\":                      11,   #identity of incoming object B in the collision (e)\n",
    " \"Beams:eA\" :                      250,  #beam energy of incoming object A in the collision\n",
    " \"Beams:eB\"  :                     20,   #beam energy of incoming object B in the collision\n",
    "    \n",
    " #Set up DIS process within some phase space.\n",
    "    \n",
    " \"WeakBosonExchange:ff2ff(t:gmZ)\": \"on\", #turn on neutral currents (with gamma/Z interference)\n",
    " \"PhaseSpace:Q2Min\":               10,   #minimum for real photon virtuality (phase space cut)\n",
    " \"SpaceShower:pTmaxMatch\":         2,    #always allow emissions up to the kinematical limit\n",
    " \"PDF:lepton\":                     \"off\",#turn off QED radiation from lepton (lepton carries the full beam energy)\n",
    " \"TimeShower:QEDshowerByL\":        \"off\",#don't allow leptons to radiate photons\n",
    "}"
   ]
  },
  {
   "cell_type": "code",
   "execution_count": 4,
   "metadata": {
    "scrolled": false
   },
   "outputs": [
    {
     "name": "stdout",
     "output_type": "stream",
     "text": [
      "\n",
      " *-------  PYTHIA Process Initialization  --------------------------*\n",
      " |                                                                  |\n",
      " | We collide p+ with e- at a CM energy of 1.414e+02 GeV            |\n",
      " |                                                                  |\n",
      " |------------------------------------------------------------------|\n",
      " |                                                    |             |\n",
      " | Subprocess                                    Code |   Estimated |\n",
      " |                                                    |    max (mb) |\n",
      " |                                                    |             |\n",
      " |------------------------------------------------------------------|\n",
      " |                                                    |             |\n",
      " | f f' -> f f' (t-channel gamma*/Z0)             211 |   1.896e-04 |\n",
      " |                                                                  |\n",
      " *-------  End PYTHIA Process Initialization -----------------------*\n",
      "\n",
      " *-------  PYTHIA Flag + Mode + Parm + Word + FVec + MVec + PVec + WVec Settings (changes only)  ------------------* \n",
      " |                                                                                                                 | \n",
      " | Name                                          |                      Now |      Default         Min         Max | \n",
      " |                                               |                          |                                      | \n",
      " | Beams:eA                                      |                250.00000 |     7000.000         0.0             | \n",
      " | Beams:eB                                      |                 20.00000 |     7000.000         0.0             | \n",
      " | Beams:frameType                               |                        2 |            1           1           5 | \n",
      " | Beams:idB                                     |                       11 |         2212                         | \n",
      " | Init:showChangedParticleData                  |                      off |           on                         | \n",
      " | Init:showMultipartonInteractions              |                      off |           on                         | \n",
      " | Next:numberShowEvent                          |                        0 |            1           0             | \n",
      " | Next:numberShowInfo                           |                        0 |            1           0             | \n",
      " | Next:numberShowProcess                        |                        0 |            1           0             | \n",
      " | PDF:lepton                                    |                      off |           on                         | \n",
      " | PhaseSpace:Q2Min                              |                 10.00000 |          0.0         0.0             | \n",
      " | Random:seed                                   |                        0 |           -1               900000000 | \n",
      " | Random:setSeed                                |                       on |          off                         | \n",
      " | SpaceShower:pTmaxMatch                        |                        2 |            0           0           2 | \n",
      " | TimeShower:QEDshowerByL                       |                      off |           on                         | \n",
      " | WeakBosonExchange:ff2ff(t:gmZ)                |                       on |          off                         | \n",
      " |                                                                                                                 | \n",
      " *-------  End PYTHIA Flag + Mode + Parm + Word + FVec + MVec + PVec + WVec Settings  -----------------------------* \n"
     ]
    }
   ],
   "source": [
    "pythia = Pythia(params = params)"
   ]
  },
  {
   "cell_type": "markdown",
   "metadata": {},
   "source": [
    "Output dtype = [(′E′,′f8′),(′px′,′f8′),(′py′,′f8′),(′pz′,′f8′),(′mass′,′f8′),(′prodx′,′f8′),(′prody′,′f8′),(′prodz′,′f8′),(′prodt′,′f8′),(′pdgid′,′i4′),(′status′,′i4′)]"
   ]
  },
  {
   "cell_type": "code",
   "execution_count": 9,
   "metadata": {},
   "outputs": [
    {
     "name": "stderr",
     "output_type": "stream",
     "text": [
      "/Users/jose/Library/Python/2.7/lib/python/site-packages/ipykernel_launcher.py:41: RuntimeWarning: divide by zero encountered in double_scalars\n"
     ]
    },
    {
     "name": "stdout",
     "output_type": "stream",
     "text": [
      "\n",
      " Pythia::next(): 3000 events have been generated \n",
      "\n",
      " *-------  PYTHIA Event and Cross Section Statistics  -------------------------------------------------------------*\n",
      " |                                                                                                                 |\n",
      " | Subprocess                                    Code |            Number of events       |      sigma +- delta    |\n",
      " |                                                    |       Tried   Selected   Accepted |     (estimated) (mb)   |\n",
      " |                                                    |                                   |                        |\n",
      " |-----------------------------------------------------------------------------------------------------------------|\n",
      " |                                                    |                                   |                        |\n",
      " | f f' -> f f' (t-channel gamma*/Z0)             211 |       11235       4000       4000 |   6.854e-05  6.057e-07 |\n",
      " |                                                    |                                   |                        |\n",
      " | sum                                                |       11235       4000       4000 |   6.854e-05  6.057e-07 |\n",
      " |                                                                                                                 |\n",
      " *-------  End PYTHIA Event and Cross Section Statistics ----------------------------------------------------------*\n",
      "\n",
      " *-------  PYTHIA Error and Warning Messages Statistics  ----------------------------------------------------------* \n",
      " |                                                                                                                 | \n",
      " |  times   message                                                                                                | \n",
      " |                                                                                                                 | \n",
      " |      2   Error in BeamRemnants::setOneRemnKinematics: too big beam remnant invariant mass                       | \n",
      " |                                                                                                                 | \n",
      " *-------  End PYTHIA Error and Warning Messages Statistics  ------------------------------------------------------* \n"
     ]
    }
   ],
   "source": [
    "#proton and electron identification\n",
    "\n",
    "j = 0\n",
    "k = 0\n",
    "l = 0\n",
    "\n",
    "eIn_pt   = [0]*10000\n",
    "eIn_p    = [0]*10000\n",
    "\n",
    "eIn_4vec = [0]*10000\n",
    "\n",
    "p_pt     = [0]*10000\n",
    "p_p      = [0]*10000\n",
    "p_eta    = [0]*10000\n",
    "\n",
    "p_4vec   = [0]*10000\n",
    "\n",
    "eOut_pt  = [0]*10000\n",
    "eOut_p   = [0]*10000\n",
    "eOut_eta = [0]*10000\n",
    "\n",
    "eOut_4vec= [0]*10000\n",
    "\n",
    "for event in pythia(events=1000):\n",
    "    if not event: continue\n",
    "    \n",
    "    for i in event.all():\n",
    "        \n",
    "        if i['pdgid'] == 11 and i['status'] == 4:\n",
    "            eIn_pt[j]  = np.sqrt(i['px']*i['px'] + i['py']*i['py'])\n",
    "            eIn_p[j]   = np.sqrt(i['px']*i['px'] + i['py']*i['py'] + i['pz']*i['pz'])\n",
    "            \n",
    "            #make its respective 4 vector which can be used, along with the others, to find Q2, W, x_borj, and y\n",
    "            eIn_4vec[j] = [i['px'],i['py'],i['pz'],i['E']]\n",
    "            \n",
    "            j = j  + 1\n",
    "            \n",
    "        if i['pdgid'] == 2212:\n",
    "            p_pt[k]    = np.sqrt(i['px']*i['px'] + i['py']*i['py'])\n",
    "            p_p[k]     = np.sqrt(i['px']*i['px'] + i['py']*i['py'] + i['pz']*i['pz'])\n",
    "            p_eta[k]   = 0.5*np.log((p_p[k] + i['pz'])/(p_p[k] - i['pz']))\n",
    "            \n",
    "            p_4vec[k] = [i['px'],i['py'],i['pz'],i['E']]\n",
    "        \n",
    "            k = k  + 1\n",
    "            \n",
    "        if i['pdgid'] == 11 and i['status'] == 1:\n",
    "            eOut_pt[l] = np.sqrt(i['px']*i['px'] + i['py']*i['py'])\n",
    "            eOut_p[l]  = np.sqrt(i['px']*i['px'] + i['py']*i['py'] + i['pz']*i['pz'])\n",
    "            eOut_eta[l]= 0.5*np.log((eOut_p[l] + i['pz'])/(eOut_p[l] - i['pz']))\n",
    "            \n",
    "            eOut_4vec[l] = [i['px'],i['py'],i['pz'],i['E']]\n",
    "        \n",
    "            l = l  + 1\n",
    "\n",
    "electron_dataframe = pd.DataFrame({'eIn_pt': eIn_pt, 'eOut_pt': eOut_pt, 'eIn_p': eIn_p, 'eOut_p': eOut_p, \n",
    "                                   'eOut_eta': eOut_eta})\n",
    "\n",
    "electron_data      = electron_dataframe.query('eIn_pt != 0')\n",
    "\n",
    "proton_dataframe = pd.DataFrame({'p_pt': p_pt, 'p_p': p_p, 'p_eta': p_eta})\n",
    "proton_data      = proton_dataframe.query('p_pt != 0')"
   ]
  },
  {
   "cell_type": "code",
   "execution_count": 31,
   "metadata": {
    "scrolled": false
   },
   "outputs": [
    {
     "name": "stdout",
     "output_type": "stream",
     "text": [
      "\n",
      " Pythia::next(): 12000 events have been generated \n",
      "\n",
      " *-------  PYTHIA Event and Cross Section Statistics  -------------------------------------------------------------*\n",
      " |                                                                                                                 |\n",
      " | Subprocess                                    Code |            Number of events       |      sigma +- delta    |\n",
      " |                                                    |       Tried   Selected   Accepted |     (estimated) (mb)   |\n",
      " |                                                    |                                   |                        |\n",
      " |-----------------------------------------------------------------------------------------------------------------|\n",
      " |                                                    |                                   |                        |\n",
      " | f f' -> f f' (t-channel gamma*/Z0)             211 |       33114      12097      12097 |   6.916e-05  3.525e-07 |\n",
      " |                                                    |                                   |                        |\n",
      " | sum                                                |       33114      12097      12097 |   6.916e-05  3.525e-07 |\n",
      " |                                                                                                                 |\n",
      " *-------  End PYTHIA Event and Cross Section Statistics ----------------------------------------------------------*\n",
      "\n",
      " *-------  PYTHIA Error and Warning Messages Statistics  ----------------------------------------------------------* \n",
      " |                                                                                                                 | \n",
      " |  times   message                                                                                                | \n",
      " |                                                                                                                 | \n",
      " |      2   Error in BeamRemnants::setOneRemnKinematics: too big beam remnant invariant mass                       | \n",
      " |      1   Error in Pythia::check: energy-momentum not conserved                                                  | \n",
      " |      1   Error in Pythia::next: check of event revealed problems                                                | \n",
      " |                                                                                                                 | \n",
      " *-------  End PYTHIA Error and Warning Messages Statistics  ------------------------------------------------------* \n"
     ]
    }
   ],
   "source": [
    "#pion identification\n",
    "\n",
    "j = 0\n",
    "\n",
    "ptArray  = [0]*10000\n",
    "pArray   = [0]*10000\n",
    "etaArray = [0]*10000\n",
    "\n",
    "for event in pythia(events=1000):\n",
    "    if not event: continue\n",
    "    \n",
    "    #PDG_ID == 211 corresponds to a pion with positive charge\n",
    "    for i in event.all(selection & (ABS_PDG_ID == 211)):\n",
    "        \n",
    "        ptArray[j]  = np.sqrt(i['px']*i['px'] + i['py']*i['py'])\n",
    "        pArray[j]   = np.sqrt(i['px']*i['px'] + i['py']*i['py'] + i['pz']*i['pz'])\n",
    "        etaArray[j] = 0.5*np.log((pArray[j] + i['pz'])/(pArray[j] - i['pz']))\n",
    "        \n",
    "        j = j  + 1\n",
    "\n",
    "pion_dataframe = pd.DataFrame({'pion_pt': ptArray, 'pion_p': pArray, 'pion_eta': etaArray})\n",
    "pion_data      = pion_dataframe.query('pion_pt != 0')"
   ]
  },
  {
   "cell_type": "code",
   "execution_count": 8,
   "metadata": {},
   "outputs": [
    {
     "name": "stdout",
     "output_type": "stream",
     "text": [
      "\n",
      " Pythia::next(): 2000 events have been generated \n",
      "\n",
      " *-------  PYTHIA Event and Cross Section Statistics  -------------------------------------------------------------*\n",
      " |                                                                                                                 |\n",
      " | Subprocess                                    Code |            Number of events       |      sigma +- delta    |\n",
      " |                                                    |       Tried   Selected   Accepted |     (estimated) (mb)   |\n",
      " |                                                    |                                   |                        |\n",
      " |-----------------------------------------------------------------------------------------------------------------|\n",
      " |                                                    |                                   |                        |\n",
      " | f f' -> f f' (t-channel gamma*/Z0)             211 |        5496       2001       2001 |   6.826e-05  8.554e-07 |\n",
      " |                                                    |                                   |                        |\n",
      " | sum                                                |        5496       2001       2001 |   6.826e-05  8.554e-07 |\n",
      " |                                                                                                                 |\n",
      " *-------  End PYTHIA Event and Cross Section Statistics ----------------------------------------------------------*\n",
      "\n",
      " *-------  PYTHIA Error and Warning Messages Statistics  ----------------------------------------------------------* \n",
      " |                                                                                                                 | \n",
      " |  times   message                                                                                                | \n",
      " |                                                                                                                 | \n",
      " |      0   no errors or warnings to report                                                                        | \n",
      " |                                                                                                                 | \n",
      " *-------  End PYTHIA Error and Warning Messages Statistics  ------------------------------------------------------* \n"
     ]
    }
   ],
   "source": [
    "j = 0\n",
    "\n",
    "arrayJets_pt   = [0]*100000\n",
    "arrayJets_eta  = [0]*100000\n",
    "arrayJets_phi  = [0]*100000\n",
    "arrayJets_mass = [0]*100000\n",
    "\n",
    "for event in pythia(events=1000):\n",
    "    if not event: continue\n",
    "            \n",
    "    jets = cluster(event.all(selection), R=1, p=-1, ep=True).inclusive_jets()\n",
    "    \n",
    "    for k in jets:\n",
    "        \n",
    "        arrayJets_pt[j]   = k.pt\n",
    "        arrayJets_eta[j]  = k.eta\n",
    "        arrayJets_phi[j]  = k.phi\n",
    "        arrayJets_mass[j] = k.mass\n",
    "\n",
    "        j = j + 1 \n",
    "        \n",
    "jets_dataframe = pd.DataFrame({'jet_pt': arrayJets_pt, 'jet_eta': arrayJets_eta, 'jet_phi': arrayJets_phi, 'jet_mass': arrayJets_mass})\n",
    "jets_data      = jets_dataframe.query('jet_pt != 0')"
   ]
  },
  {
   "cell_type": "code",
   "execution_count": 9,
   "metadata": {},
   "outputs": [
    {
     "data": {
      "image/png": "[encoded data removed]",
      "text/plain": [
       "<Figure size 720x504 with 1 Axes>"
      ]
     },
     "metadata": {
      "needs_background": "light"
     },
     "output_type": "display_data"
    }
   ],
   "source": [
    "fig = plt.figure(figsize=(10,7))\n",
    "\n",
    "plt.hist(jets_data['jet_pt'],bins =20,histtype='step',color='red')\n",
    "plt.xlabel(r'$\\mathrm{jet} \\:\\: p_\\mathrm{T} \\:\\: [\\mathrm{GeV}/c]$', fontsize = 35)\n",
    "plt.xticks(fontsize = 18)\n",
    "plt.xlim(0,30)\n",
    "plt.ylabel(r'$\\mathrm{Counts}$', fontsize = 34)\n",
    "plt.yticks(fontsize =18)\n",
    "plt.legend(loc='upper right', frameon=False, prop={'size':26})\n",
    "plt.show()"
   ]
  },
  {
   "cell_type": "code",
   "execution_count": null,
   "metadata": {},
   "outputs": [],
   "source": [
    "#how I was doing it before\n",
    "\n",
    "# arrayArb = [0]*event.all().shape[0]\n",
    "\n",
    "# def getData(array, variable):\n",
    "#     for i in range(0, event.all().shape[0]):\n",
    "#         array[i] = event.all()[i][variable]\n",
    "#     return array\n",
    "\n",
    "# pxArray = getData(arrayArb, 1)\n",
    "# pyArray = getData(arrayArb, 2)\n",
    "\n",
    "# ptArray = np.sqrt(np.power(pxArray,2) + np.power(pyArray,2))"
   ]
  }
 ],
 "metadata": {
  "kernelspec": {
   "display_name": "Python 2",
   "language": "python",
   "name": "python2"
  },
  "language_info": {
   "codemirror_mode": {
    "name": "ipython",
    "version": 2
   },
   "file_extension": ".py",
   "mimetype": "text/x-python",
   "name": "python",
   "nbconvert_exporter": "python",
   "pygments_lexer": "ipython2",
   "version": "2.7.10"
  }
 },
 "nbformat": 4,
 "nbformat_minor": 2
}
