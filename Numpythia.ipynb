{
 "cells": [
  {
   "cell_type": "code",
   "execution_count": null,
   "metadata": {},
   "outputs": [],
   "source": [
    "from numpythia import Pythia, STATUS, HAS_END_VERTEX, ABS_PDG_ID\n",
    "from pyjet import cluster\n",
    "\n",
    "%matplotlib inline\n",
    "\n",
    "import matplotlib.pyplot as plt\n",
    "import numpy as np\n",
    "import pandas as pd\n",
    "\n",
    "import ROOT"
   ]
  },
  {
   "cell_type": "code",
   "execution_count": null,
   "metadata": {},
   "outputs": [],
   "source": [
    "#in selection do not allow it to be a neutrino\n",
    "\n",
    "selection = ((STATUS == 1) & ~HAS_END_VERTEX & (ABS_PDG_ID != 12) & (ABS_PDG_ID != 14) & (ABS_PDG_ID != 16))"
   ]
  },
  {
   "cell_type": "code",
   "execution_count": null,
   "metadata": {},
   "outputs": [],
   "source": [
    "#photoproduction (low Q2)\n",
    "\n",
    "params_pp = {\n",
    " \"HardQCD:all\":          \"on\",  #hard subprocesses (2->2) are considered\n",
    " \"Beams:eCM\":            100.,  #center of mass energy\n",
    " \"Beams:idA\":            11,    #identity of incoming object A in the collision (e)\n",
    " \"Beams:idB\":            2212,  #identity of incoming object B in the collision (p)\n",
    " \"PDF:lepton2gamma\":     \"on\",  #initial state radiation for leptons \n",
    " \"Photon:Q2max\":         1.,    #upper limit for real photon virtuality (can only handle (quasi-)real photons)\n",
    " \"Photon:Wmin\":          10.,   #minimum for the invariant mass (total energy and momentum) of a photon-hadron system\n",
    " \"PhaseSpace:pTHatMin\":  2.,    #minimum pT \n",
    " \"PhotonParton:all\":     \"on\",  #photon-parton interactions (gmg->qqbar,ccbar,ddbar)\n",
    " \"Photon:ProcessType\":   0,     #mixed contributions from resolved and direct photon interactions (resolved=hadronic photon behavior)\n",
    " \"Main:timesAllowErrors\":10000, #allowed number of errors before aborting\n",
    "}"
   ]
  },
  {
   "cell_type": "code",
   "execution_count": null,
   "metadata": {},
   "outputs": [],
   "source": [
    "#DIS process\n",
    "\n",
    "params_dis = {\n",
    " \"Beams:frameType\":                2,    #set-up frame for beams with unequal energies\n",
    " \"Beams:idA\":                      2212, #identity of incoming object A in the collision (p)\n",
    " \"Beams:idB\":                      11,   #identity of incoming object B in the collision (e)\n",
    " \"Beams:eA\" :                      250., #beam energy of incoming object A in the collision\n",
    " \"Beams:eB\"  :                     20.,  #beam energy of incoming object B in the collision\n",
    "    \n",
    " #Set up DIS process within some phase space.\n",
    "    \n",
    " \"WeakBosonExchange:ff2ff(t:gmZ)\": \"on\", #turn on neutral currents (with gamma/Z interference)\n",
    " \"PhaseSpace:Q2Min\":               10,   #minimum for real photon virtuality (phase space cut)\n",
    " \"SpaceShower:pTmaxMatch\":         2,    #always allow emissions up to the kinematical limit\n",
    " \"PDF:lepton\":                     \"off\",#turn off QED radiation from lepton (lepton carries the full beam energy)\n",
    " \"TimeShower:QEDshowerByL\":        \"off\",#don't allow leptons to radiate photons\n",
    "}"
   ]
  },
  {
   "cell_type": "code",
   "execution_count": null,
   "metadata": {
    "scrolled": false
   },
   "outputs": [],
   "source": [
    "pythia = Pythia(params = params_dis)"
   ]
  },
  {
   "cell_type": "markdown",
   "metadata": {},
   "source": [
    "Output dtype = [(′E′,′f8′),(′px′,′f8′),(′py′,′f8′),(′pz′,′f8′),(′mass′,′f8′),(′prodx′,′f8′),(′prody′,′f8′),(′prodz′,′f8′),(′prodt′,′f8′),(′pdgid′,′i4′),(′status′,′i4′)]"
   ]
  },
  {
   "cell_type": "code",
   "execution_count": null,
   "metadata": {},
   "outputs": [],
   "source": [
    "#proton and electron identification\n",
    "\n",
    "j = 0\n",
    "k = 0\n",
    "l = 0\n",
    "\n",
    "eIn_pt   = [0]*100000\n",
    "eIn_p    = [0]*100000\n",
    "\n",
    "eIn_4vec = [0]*100000\n",
    "\n",
    "p_pt     = [0]*100000\n",
    "p_p      = [0]*100000\n",
    "\n",
    "p_4vec   = [0]*100000\n",
    "\n",
    "eOut_pt  = [0]*100000\n",
    "eOut_p   = [0]*100000\n",
    "eOut_eta = [0]*100000\n",
    "\n",
    "eOut_4vec= [0]*100000\n",
    "\n",
    "for event in pythia(events=1000):\n",
    "    if not event: continue\n",
    "    \n",
    "    for i in event.all():\n",
    "        \n",
    "        if i['pdgid'] == 11 and i['status'] == 4:\n",
    "            eIn_pt[j]  = np.sqrt(i['px']*i['px'] + i['py']*i['py'])\n",
    "            eIn_p[j]   = np.sqrt(i['px']*i['px'] + i['py']*i['py'] + i['pz']*i['pz'])\n",
    "            \n",
    "            #make its respective 4 vector which can be used, along with the others, to find Q2, W, x_borj, and y\n",
    "            eIn_4vec[j] = [i['px'],i['py'],i['pz'],i['E']]\n",
    "            \n",
    "            j = j  + 1\n",
    "            \n",
    "        if i['pdgid'] == 2212 and i['status'] == 4:\n",
    "            p_pt[k]    = np.sqrt(i['px']*i['px'] + i['py']*i['py'])\n",
    "            p_p[k]     = np.sqrt(i['px']*i['px'] + i['py']*i['py'] + i['pz']*i['pz'])\n",
    "            \n",
    "            p_4vec[k] = [i['px'],i['py'],i['pz'],i['E']]\n",
    "        \n",
    "            k = k  + 1\n",
    "            \n",
    "        if i['pdgid'] == 11 and i['status'] == 1:\n",
    "            eOut_pt[l] = np.sqrt(i['px']*i['px'] + i['py']*i['py'])\n",
    "            eOut_p[l]  = np.sqrt(i['px']*i['px'] + i['py']*i['py'] + i['pz']*i['pz'])\n",
    "            eOut_eta[l]= 0.5*np.log((eOut_p[l] + i['pz'])/(eOut_p[l] - i['pz']))\n",
    "            \n",
    "            eOut_4vec[l] = [i['px'],i['py'],i['pz'],i['E']]\n",
    "        \n",
    "            l = l  + 1\n",
    "\n",
    "electron_dataframe = pd.DataFrame({'eIn_pt': eIn_pt, 'eOut_pt': eOut_pt, 'eIn_p': eIn_p, 'eOut_p': eOut_p, \n",
    "                                   'eOut_eta': eOut_eta})\n",
    "\n",
    "electron_data      = electron_dataframe.query('eIn_pt != 0 and eIn_p != 0')\n",
    "\n",
    "proton_dataframe = pd.DataFrame({'p_pt': p_pt, 'p_p': p_p})\n",
    "proton_data      = proton_dataframe.query('p_pt != 0 and p_p != 0')"
   ]
  },
  {
   "cell_type": "code",
   "execution_count": null,
   "metadata": {
    "scrolled": false
   },
   "outputs": [],
   "source": [
    "#pion identification\n",
    "\n",
    "j = 0\n",
    "\n",
    "ptArray  = [0]*100000\n",
    "pArray   = [0]*100000\n",
    "etaArray = [0]*100000\n",
    "\n",
    "for event in pythia(events=1000):\n",
    "    if not event: continue\n",
    "    \n",
    "    #PDG_ID == 211 corresponds to a pion with positive charge\n",
    "    for i in event.all(selection & (ABS_PDG_ID == 211)):\n",
    "        \n",
    "        ptArray[j]  = np.sqrt(i['px']*i['px'] + i['py']*i['py'])\n",
    "        pArray[j]   = np.sqrt(i['px']*i['px'] + i['py']*i['py'] + i['pz']*i['pz'])\n",
    "        etaArray[j] = 0.5*np.log((pArray[j] + i['pz'])/(pArray[j] - i['pz']))\n",
    "        \n",
    "        j = j  + 1\n",
    "\n",
    "pion_dataframe = pd.DataFrame({'pion_pt': ptArray, 'pion_p': pArray, 'pion_eta': etaArray})\n",
    "pion_data      = pion_dataframe.query('pion_pt != 0 and pion_p != 0')"
   ]
  },
  {
   "cell_type": "code",
   "execution_count": null,
   "metadata": {
    "scrolled": false
   },
   "outputs": [],
   "source": [
    "j = 0\n",
    "\n",
    "arrayJets_pt   = [0]*100000\n",
    "arrayJets_eta  = [0]*100000\n",
    "arrayJets_phi  = [0]*100000\n",
    "arrayJets_mass = [0]*100000\n",
    "\n",
    "for event in pythia(events=1000):\n",
    "    if not event: continue\n",
    "    \n",
    "    jets = cluster(event.all(selection), R=1, p=-1, ep=True).inclusive_jets(ptmin=5)\n",
    "    \n",
    "    for k in jets:\n",
    "        \n",
    "        arrayJets_pt[j]   = k.pt\n",
    "        arrayJets_eta[j]  = k.eta\n",
    "        arrayJets_phi[j]  = k.phi\n",
    "        arrayJets_mass[j] = k.mass\n",
    "\n",
    "        j = j + 1 \n",
    "        \n",
    "jets_dataframe = pd.DataFrame({'jet_pt': arrayJets_pt, 'jet_eta': arrayJets_eta, 'jet_phi': arrayJets_phi, \n",
    "                               'jet_mass': arrayJets_mass})\n",
    "jets_data      = jets_dataframe.query('jet_pt != 0')"
   ]
  },
  {
   "cell_type": "code",
   "execution_count": null,
   "metadata": {},
   "outputs": [],
   "source": [
    "fig = plt.figure(figsize=(10,7))\n",
    "\n",
    "plt.hist(jets_data['jet_pt'],bins =20,histtype='step',color='red')\n",
    "plt.xlabel(r'$\\mathrm{jet} \\:\\: p_\\mathrm{T} \\:\\: [\\mathrm{GeV}/c]$', fontsize = 35)\n",
    "plt.xticks(fontsize = 18)\n",
    "plt.ylabel(r'$\\mathrm{Counts}$', fontsize = 34)\n",
    "plt.yticks(fontsize =18)\n",
    "plt.legend(loc='upper right', frameon=False, prop={'size':26})\n",
    "plt.show()"
   ]
  },
  {
   "cell_type": "code",
   "execution_count": null,
   "metadata": {},
   "outputs": [],
   "source": [
    "#how I was doing it before\n",
    "\n",
    "# arrayArb = [0]*event.all().shape[0]\n",
    "\n",
    "# def getData(array, variable):\n",
    "#     for i in range(0, event.all().shape[0]):\n",
    "#         array[i] = event.all()[i][variable]\n",
    "#     return array\n",
    "\n",
    "# pxArray = getData(arrayArb, 1)\n",
    "# pyArray = getData(arrayArb, 2)\n",
    "\n",
    "# ptArray = np.sqrt(np.power(pxArray,2) + np.power(pyArray,2))"
   ]
  }
 ],
 "metadata": {
  "kernelspec": {
   "display_name": "Python 2",
   "language": "python",
   "name": "python2"
  },
  "language_info": {
   "codemirror_mode": {
    "name": "ipython",
    "version": 2
   },
   "file_extension": ".py",
   "mimetype": "text/x-python",
   "name": "python",
   "nbconvert_exporter": "python",
   "pygments_lexer": "ipython2",
   "version": "2.7.10"
  }
 },
 "nbformat": 4,
 "nbformat_minor": 2
}
